{
  "nbformat": 4,
  "nbformat_minor": 0,
  "metadata": {
    "colab": {
      "name": "Untitled0.ipynb",
      "provenance": [],
      "toc_visible": true,
      "authorship_tag": "ABX9TyNFaxZT1H/IYFt1Dupl3VJJ",
      "include_colab_link": true
    },
    "kernelspec": {
      "name": "python3",
      "display_name": "Python 3"
    },
    "language_info": {
      "name": "python"
    }
  },
  "cells": [
    {
      "cell_type": "markdown",
      "metadata": {
        "id": "view-in-github",
        "colab_type": "text"
      },
      "source": [
        "<a href=\"https://colab.research.google.com/github/SopranaLux/XD/blob/twoja/%C4%87wiczeniaprogramowanieobiektowe.ipynb\" target=\"_parent\"><img src=\"https://colab.research.google.com/assets/colab-badge.svg\" alt=\"Open In Colab\"/></a>"
      ]
    },
    {
      "cell_type": "code",
      "execution_count": 4,
      "metadata": {
        "colab": {
          "base_uri": "https://localhost:8080/",
          "height": 130
        },
        "id": "7PLQMB5jluAe",
        "outputId": "5db0d9b7-071d-4184-c75c-b39a676d6656"
      },
      "outputs": [
        {
          "output_type": "error",
          "ename": "SyntaxError",
          "evalue": "ignored",
          "traceback": [
            "\u001b[0;36m  File \u001b[0;32m\"<ipython-input-4-eccbfd30d14b>\"\u001b[0;36m, line \u001b[0;32m22\u001b[0m\n\u001b[0;31m    print('Punkt:'p.x, p.y)\u001b[0m\n\u001b[0m                  ^\u001b[0m\n\u001b[0;31mSyntaxError\u001b[0m\u001b[0;31m:\u001b[0m invalid syntax\n"
          ]
        }
      ],
      "source": [
        "class pkt:\n",
        "  def __init__(self, x, y):\n",
        "    self.x = x\n",
        "    selfy.y = y\n",
        "  def nalezy_do(self, pr):\n",
        "    return self.y == pr.a* self.x + pr.b\n",
        "  def __str__(self):\n",
        "    return f'(self)'\n",
        "\n",
        "\n",
        "class Line:\n",
        "  def __init__(self, a, b):\n",
        "    self.a = a\n",
        "    self.b = b\n",
        "  def miejsce_zerowe():\n",
        "    if self.a == 0 and self.b == 0:\n",
        "      raise ValueError('Niekończenie wielerozwiązań')\n",
        "    elif self.a == 0:\n",
        "      raise ValueError('Równanie sprzeczne')\n",
        "    else:\n",
        "      return - self.b/self.a\n",
        "def main():\n",
        "  p = pkt(3, 6)\n",
        "  pr = line(2, 0)\n",
        "  print('Punkt:'p.x, p.y)\n",
        "  print('Prosta:', pr.a, pr.b)\n",
        "  \n",
        "  print(p.nalezy_do(pr))\n",
        "main()"
      ]
    }
  ]
}