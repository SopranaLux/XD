{
  "nbformat": 4,
  "nbformat_minor": 0,
  "metadata": {
    "colab": {
      "name": "Untitled4.ipynb",
      "provenance": [],
      "collapsed_sections": [],
      "authorship_tag": "ABX9TyPniNNHvZjlh1EI5NOpHKGz",
      "include_colab_link": true
    },
    "kernelspec": {
      "name": "python3",
      "display_name": "Python 3"
    },
    "language_info": {
      "name": "python"
    }
  },
  "cells": [
    {
      "cell_type": "markdown",
      "metadata": {
        "id": "view-in-github",
        "colab_type": "text"
      },
      "source": [
        "<a href=\"https://colab.research.google.com/github/SopranaLux/XD/blob/main/Untitled4.ipynb\" target=\"_parent\"><img src=\"https://colab.research.google.com/assets/colab-badge.svg\" alt=\"Open In Colab\"/></a>"
      ]
    },
    {
      "cell_type": "code",
      "execution_count": null,
      "metadata": {
        "colab": {
          "base_uri": "https://localhost:8080/"
        },
        "id": "kvQ2oHlY2Qgr",
        "outputId": "8ef1e628-126e-40df-ae07-1e4316163fca"
      },
      "outputs": [
        {
          "output_type": "stream",
          "name": "stdout",
          "text": [
            "\n",
            "Program oblicza pierwiastek drugiego stopnia z ax + bx + c = 0\n",
            "podaj liczbe a 3\n",
            "Podaj b: 5\n",
            "Podaj c: 8\n",
            "a = 3.0, b = 5.0, c = 8.0\n",
            "Brak pierwiastków rzeczywistych\n",
            "Obiekt klasy Trójmian został usnięty\n",
            "Zakończenie programu\n"
          ]
        }
      ],
      "source": [
        "import math as m\n",
        "class Trojmian():\n",
        "\n",
        "    def __init__(self):\n",
        "        print()\n",
        "        print(\"Program oblicza pierwiastek drugiego stopnia z ax + bx + c = 0\")\n",
        "        \n",
        "    def __del__(self):\n",
        "        print(\"Obiekt klasy Trójmian został usnięty\")\n",
        "        print(\"Zakończenie programu\")\n",
        "\n",
        "    def czytaj_dane_i_przetwój_je(self):\n",
        "        self.a = float(input(\"podaj liczbe a \"))\n",
        "        \n",
        "        if self.a == 0:\n",
        "            print(\"Zła wartoś współczynnika a \")\n",
        "            exit()\n",
        "        else:\n",
        "            self.b = float(input(\"Podaj b: \"))\n",
        "            self.c = float(input(\"Podaj c: \"))\n",
        "            print(f'a = {self.a}, b = {self.b}, c = {self.c}')\n",
        "        \n",
        "            delta = self.b * self.b - 4 * self.a * self.c\n",
        "            if delta < 0:\n",
        "                print(\"Brak pierwiastków rzeczywistych\")\n",
        "            elif delta == 0:\n",
        "                x1 = -self.b / (2 * self.a)\n",
        "                print(f'trój mian ma jeden pierwiastek rzeczysity {x1}')\n",
        "            else:\n",
        "                x1 = (-self.b - m.sqrt(delta)) / 2 * self.a\n",
        "                x2 = (-self.b + m.sqrt(delta)) / 2 * self.a\n",
        "                print(\"Trójmian ma dwa pierwiastki rzeczywiste\")\n",
        "                print(f'x1 = {x1}, x2 = {x2}')\n",
        "def main():\n",
        "    trojmian1 = Trojmian()\n",
        "    trojmian1.czytaj_dane_i_przetwój_je()\n",
        "\n",
        "    del trojmian1\n",
        "main()"
      ]
    },
    {
      "cell_type": "code",
      "source": [
        "def wiadomość():\n",
        "    print('to jest wiadomość w pytonie')\n",
        "wiadomość()"
      ],
      "metadata": {
        "colab": {
          "base_uri": "https://localhost:8080/"
        },
        "id": "kLMGOEOClhm1",
        "outputId": "144d54e2-ca78-4687-8846-82ddbfc54238"
      },
      "execution_count": null,
      "outputs": [
        {
          "output_type": "stream",
          "name": "stdout",
          "text": [
            "to jest wiadomość w pytonie\n"
          ]
        }
      ]
    },
    {
      "cell_type": "code",
      "source": [
        "def pole(a, b):\n",
        "    return a * b\n",
        "def main():\n",
        "    print('ten program oblicza pole prostokąta')\n",
        "    a = float(input('Podaj liczbe a '))\n",
        "    b = float(input('Podaj liczbe b '))\n",
        "    print(f'{a} * {b} = {pole(a,b)}')\n",
        "main()"
      ],
      "metadata": {
        "colab": {
          "base_uri": "https://localhost:8080/"
        },
        "id": "FxGpq60VvXov",
        "outputId": "d474acde-9e55-478b-9b36-6982a168a83e"
      },
      "execution_count": null,
      "outputs": [
        {
          "output_type": "stream",
          "name": "stdout",
          "text": [
            "ten program oblicza pole prostokąta\n",
            "Podaj liczbe a 5\n",
            "Podaj liczbe b 6\n",
            "5.0 * 6.0 = 30.0\n"
          ]
        }
      ]
    },
    {
      "cell_type": "code",
      "source": [
        "def trzy(a, b, c):\n",
        "    if a * a + b * b == c * c:\n",
        "            print(f'liczby {a},{b} i {c} tworzą trójkę pitagorejską')\n",
        "    else:\n",
        "            print(f'liczby {a}, {b} i {c} nie tworzą trójki pitagorejskiej')\n",
        "def main():\n",
        "    print('Program sprawdza tróję pitagorejską')\n",
        "    a = int(input('podaj liczbe a '))\n",
        "    b = int(input(\"podaj liczbe b \"))\n",
        "    c = int(input('podaj liczbe c '))\n",
        "    trzy(a, b, c)\n",
        "   \n",
        "main()"
      ],
      "metadata": {
        "colab": {
          "base_uri": "https://localhost:8080/"
        },
        "id": "fkYAHe94zvcR",
        "outputId": "f3df9041-670a-4c1e-9e3c-49bf354f2fa5"
      },
      "execution_count": null,
      "outputs": [
        {
          "output_type": "stream",
          "name": "stdout",
          "text": [
            "Program sprawdza tróję pitagorejską\n",
            "podaj liczbe a 3\n",
            "podaj liczbe b 4\n",
            "podaj liczbe c 5\n",
            "liczby 3,4 i 5 tworzą trójkę pitagorejską\n"
          ]
        }
      ]
    },
    {
      "cell_type": "code",
      "source": [
        "import math\n",
        "def trojmian(a,b,c):\n",
        "    if a == 0:\n",
        "        print(\"zła wartość współczynnika\")\n",
        "        exit\n",
        "    else:\n",
        "        delta = b * b - 4 * a * c\n",
        "    if delta < 0:\n",
        "        print(\"brak pierwiastów rzeczywistych\")\n",
        "    elif delta == 0:\n",
        "        x1 = -b / (2 * a)\n",
        "        print(f(\"trójmian ma jeden pierwiastek rzeczyisty {x1}\"))\n",
        "    else:\n",
        "        x1 = (-b - math.sqrt(delta)) / 2 * a\n",
        "        x2 = (-b + math.sqrt(delta)) / 2 * a \n",
        "        print(\"Trójmian ma dwa pierwiastki rzeczywiste\")\n",
        "        print(f'x1 = {x1}, x2 = {x2}')\n",
        "def main():\n",
        "    print('program oblicza deltę')\n",
        "    a = int(input('podaj liczbe a '))\n",
        "    b = int(input('podaj liczbe b '))\n",
        "    c = int(input('podaj liczbe c '))\n",
        "    trojmian(a,b,c)\n",
        "main()"
      ],
      "metadata": {
        "colab": {
          "base_uri": "https://localhost:8080/",
          "height": 373
        },
        "id": "z78pbZuu6PfC",
        "outputId": "29e36f25-ad7b-4b79-dd35-df4fcd8a7535"
      },
      "execution_count": null,
      "outputs": [
        {
          "name": "stdout",
          "output_type": "stream",
          "text": [
            "program oblicza deltę\n",
            "podaj liczbe a 3\n",
            "podaj liczbe b 4\n",
            "podaj liczbe c 5\n"
          ]
        },
        {
          "output_type": "error",
          "ename": "TypeError",
          "evalue": "ignored",
          "traceback": [
            "\u001b[0;31m---------------------------------------------------------------------------\u001b[0m",
            "\u001b[0;31mTypeError\u001b[0m                                 Traceback (most recent call last)",
            "\u001b[0;32m<ipython-input-19-c0909ba7ab3c>\u001b[0m in \u001b[0;36m<module>\u001b[0;34m()\u001b[0m\n\u001b[1;32m     22\u001b[0m     \u001b[0mc\u001b[0m \u001b[0;34m=\u001b[0m \u001b[0mint\u001b[0m\u001b[0;34m(\u001b[0m\u001b[0minput\u001b[0m\u001b[0;34m(\u001b[0m\u001b[0;34m'podaj liczbe c '\u001b[0m\u001b[0;34m)\u001b[0m\u001b[0;34m)\u001b[0m\u001b[0;34m\u001b[0m\u001b[0;34m\u001b[0m\u001b[0m\n\u001b[1;32m     23\u001b[0m     \u001b[0mtrojmian\u001b[0m\u001b[0;34m(\u001b[0m\u001b[0;34m)\u001b[0m\u001b[0;34m\u001b[0m\u001b[0;34m\u001b[0m\u001b[0m\n\u001b[0;32m---> 24\u001b[0;31m \u001b[0mmain\u001b[0m\u001b[0;34m(\u001b[0m\u001b[0;34m)\u001b[0m\u001b[0;34m\u001b[0m\u001b[0;34m\u001b[0m\u001b[0m\n\u001b[0m",
            "\u001b[0;32m<ipython-input-19-c0909ba7ab3c>\u001b[0m in \u001b[0;36mmain\u001b[0;34m()\u001b[0m\n\u001b[1;32m     21\u001b[0m     \u001b[0mb\u001b[0m \u001b[0;34m=\u001b[0m \u001b[0mint\u001b[0m\u001b[0;34m(\u001b[0m\u001b[0minput\u001b[0m\u001b[0;34m(\u001b[0m\u001b[0;34m'podaj liczbe b '\u001b[0m\u001b[0;34m)\u001b[0m\u001b[0;34m)\u001b[0m\u001b[0;34m\u001b[0m\u001b[0;34m\u001b[0m\u001b[0m\n\u001b[1;32m     22\u001b[0m     \u001b[0mc\u001b[0m \u001b[0;34m=\u001b[0m \u001b[0mint\u001b[0m\u001b[0;34m(\u001b[0m\u001b[0minput\u001b[0m\u001b[0;34m(\u001b[0m\u001b[0;34m'podaj liczbe c '\u001b[0m\u001b[0;34m)\u001b[0m\u001b[0;34m)\u001b[0m\u001b[0;34m\u001b[0m\u001b[0;34m\u001b[0m\u001b[0m\n\u001b[0;32m---> 23\u001b[0;31m     \u001b[0mtrojmian\u001b[0m\u001b[0;34m(\u001b[0m\u001b[0;34m)\u001b[0m\u001b[0;34m\u001b[0m\u001b[0;34m\u001b[0m\u001b[0m\n\u001b[0m\u001b[1;32m     24\u001b[0m \u001b[0mmain\u001b[0m\u001b[0;34m(\u001b[0m\u001b[0;34m)\u001b[0m\u001b[0;34m\u001b[0m\u001b[0;34m\u001b[0m\u001b[0m\n",
            "\u001b[0;31mTypeError\u001b[0m: trojmian() missing 3 required positional arguments: 'a', 'b', and 'c'"
          ]
        }
      ]
    },
    {
      "cell_type": "code",
      "source": [
        "import math as m\n",
        "def signum(x):\n",
        "    if x < 0:\n",
        "        sig = -1\n",
        "    elif x > 0:\n",
        "        sig = 1\n",
        "    else:\n",
        "        sig = 0\n",
        "    print(\"signum (\", x, \")=\",sig,\"\")\n",
        "def main():\n",
        "    print('program oblicza wartość signum dla dowolnej warości x')\n",
        "    signum(-5)\n",
        "    signum(0)\n",
        "    signum(20)\n",
        "main()"
      ],
      "metadata": {
        "colab": {
          "base_uri": "https://localhost:8080/"
        },
        "id": "IsdSle4b-tCn",
        "outputId": "6acc3e37-fc15-4a2e-8879-22fafe97f702"
      },
      "execution_count": null,
      "outputs": [
        {
          "output_type": "stream",
          "name": "stdout",
          "text": [
            "program oblicza wartość signum dla dowolnej warości x\n",
            "signum ( -5 )= -1 \n",
            "signum ( 0 )= 0 \n",
            "signum ( 20 )= 1 \n"
          ]
        }
      ]
    },
    {
      "cell_type": "code",
      "source": [
        "def f(x):\n",
        "    return (x-2)**3-x**2+2*x\n",
        "def bisection_method(f, a, b, eps=10**-4, max_iter=100):\n",
        "    srodek = 0\n",
        "    iter = 0\n",
        "    while abs(a-b)>eps and iter < max_iter:\n",
        "        srodek = (a+b) / 2\n",
        "        if f(a) * f(srodek) < 0:\n",
        "            b = srodek\n",
        "        elif f(b) * f(srodek) < 0:\n",
        "            a = srodek\n",
        "        elif f(srodek) == 0:\n",
        "            return srodek\n",
        "    return srodek\n",
        "print(bisection_method(f, 1.5, 3, eps=10**-6))"
      ],
      "metadata": {
        "colab": {
          "base_uri": "https://localhost:8080/"
        },
        "id": "cvfEHvMWSYSn",
        "outputId": "d5bda8ec-b08f-48e2-840f-019fc7ed0bfc"
      },
      "execution_count": null,
      "outputs": [
        {
          "output_type": "stream",
          "name": "stdout",
          "text": [
            "2.000000238418579\n"
          ]
        }
      ]
    },
    {
      "cell_type": "code",
      "source": [
        "import matplotlib.pyplot as plt\n",
        "import numpy as np\n",
        "\n",
        "import matplotlib.pyplot as plt\n",
        "import numpy as np\n",
        "\n",
        "def func_plot(vmin, vmax, step):\n",
        "  x = np.arange(vmin,vmax,step)\n",
        "  y = [(n**2)-n*4+8 for n in x]\n",
        "  fig, ax = plt.subplots()\n",
        "  ax.plot(x,y, linewidth=2.0)\n",
        "  plt.show()\n",
        "func_plot(-5,5,0.1)"
      ],
      "metadata": {
        "colab": {
          "base_uri": "https://localhost:8080/",
          "height": 265
        },
        "id": "RQKSMBMaTH_v",
        "outputId": "ef817d4c-4303-4961-fff7-cd225f5f99b6"
      },
      "execution_count": null,
      "outputs": [
        {
          "output_type": "display_data",
          "data": {
            "text/plain": [
              "<Figure size 432x288 with 1 Axes>"
            ],
            "image/png": "[encoded data removed]"
          },
          "metadata": {
            "needs_background": "light"
          }
        }
      ]
    },
    {
      "cell_type": "code",
      "source": [
        "from cmath import sqrt\n",
        "import numpy as np\n",
        "import matplotlib.pyplot as plt\n",
        "from IPython.display import set_matplotlib_formats\n",
        "set_matplotlib_formats('png', 'pdf')\n",
        "\n",
        "def f(x):\n",
        "    return (x-2)**3-x**2+2*x\n",
        "def bisection_method(f, a, b, eps=10**-4, max_iter=100):\n",
        "    srodek = 0\n",
        "    iter = 0\n",
        "    while abs(a-b)>eps and iter < max_iter:\n",
        "        srodek = (a+b) / 2\n",
        "        if f(a) * f(srodek) < 0:\n",
        "            b = srodek\n",
        "        elif f(b) * f(srodek) < 0:\n",
        "            a = srodek\n",
        "        elif f(srodek) == 0:\n",
        "            return srodek\n",
        "    return srodek\n",
        "print(bisection_method(f, 1.5, 3, eps=10**-6))\n",
        "def bisection_method_vis(f, a, b, eps=10**-4, max_iter=100):\n",
        "    x = np.arange(a, b, eps)\n",
        "    y = [f(n)for n in x]\n",
        "    fig, ax = plt.subplots()\n",
        "    ax.plot(x,y, linewidth=2.0)\n",
        "    ax.grid(color = 'g', linestyle='--',linewidth=1.15, alpha=0.5)\n",
        "    srodek = 0\n",
        "    iter = 0\n",
        "    while abs(a-b)>eps and iter < max_iter:\n",
        "        srodek = (a+b) / 2\n",
        "        plt.axvline(srodek)\n",
        "        if f(a) * f(srodek) < 0:\n",
        "            b = srodek\n",
        "        elif f(b) * f(srodek) < 0:\n",
        "            a = srodek\n",
        "        elif f(srodek) == 0:\n",
        "            return srodek\n",
        "    plt.show()\n",
        "    return srodek\n",
        "print(bisection_method_vis(f, 1.5, 3, eps=10**-6))"
      ],
      "metadata": {
        "colab": {
          "base_uri": "https://localhost:8080/",
          "height": 300
        },
        "id": "fiNXZKK6XdnZ",
        "outputId": "29882638-77db-4651-9a72-b7ae378009bd"
      },
      "execution_count": null,
      "outputs": [
        {
          "output_type": "stream",
          "name": "stdout",
          "text": [
            "2.000000238418579\n"
          ]
        },
        {
          "output_type": "display_data",
          "data": {
            "text/plain": [
              "<Figure size 432x288 with 1 Axes>"
            ],
            "image/png": "[encoded data removed]",
            "application/pdf": "[encoded data removed]"
          },
          "metadata": {
            "needs_background": "light"
          }
        },
        {
          "output_type": "stream",
          "name": "stdout",
          "text": [
            "2.000000238418579\n"
          ]
        }
      ]
    },
    {
      "cell_type": "code",
      "source": [
        "def sortowanie(liczby):\n",
        "    for i in range(len(liczby) -1, 0, -1):\n",
        "        for j in range(i):\n",
        "            if liczby[j] > liczby[j + 1]:\n",
        "                liczby[j], liczby[j + 1] = liczby [j +1], liczby[j]\n",
        "def main():\n",
        "    print(\"lista liczb nieposotowana: \", end = \"\")\n",
        "    liczby = [547, 303, -134, 125, 80, 236]\n",
        "    print(liczby)\n",
        "    print(\"lista liczb posortowanych \", end = \"\")\n",
        "    sortowanie(liczby)\n",
        "    print(liczby)\n",
        "main()"
      ],
      "metadata": {
        "id": "MXGQFBtY1vZa"
      },
      "execution_count": null,
      "outputs": []
    },
    {
      "cell_type": "code",
      "source": [
        "def trojka(n):\n",
        "    if n == 1:\n",
        "      return 1\n",
        "    else:\n",
        "      return n + trojka( n - 1)\n",
        "def main():\n",
        "    for n in range(0, 11):\n",
        "        print(\"!=\", trojka())\n",
        "main()"
      ],
      "metadata": {
        "colab": {
          "base_uri": "https://localhost:8080/",
          "height": 304
        },
        "id": "_YEGHar07hww",
        "outputId": "9a17fa2c-da53-40a1-c2e5-9fd67c55b678"
      },
      "execution_count": null,
      "outputs": [
        {
          "output_type": "error",
          "ename": "TypeError",
          "evalue": "ignored",
          "traceback": [
            "\u001b[0;31m---------------------------------------------------------------------------\u001b[0m",
            "\u001b[0;31mTypeError\u001b[0m                                 Traceback (most recent call last)",
            "\u001b[0;32m<ipython-input-6-12da41b0e7cc>\u001b[0m in \u001b[0;36m<module>\u001b[0;34m()\u001b[0m\n\u001b[1;32m      7\u001b[0m     \u001b[0;32mfor\u001b[0m \u001b[0mn\u001b[0m \u001b[0;32min\u001b[0m \u001b[0mrange\u001b[0m\u001b[0;34m(\u001b[0m\u001b[0;36m0\u001b[0m\u001b[0;34m,\u001b[0m \u001b[0;36m11\u001b[0m\u001b[0;34m)\u001b[0m\u001b[0;34m:\u001b[0m\u001b[0;34m\u001b[0m\u001b[0;34m\u001b[0m\u001b[0m\n\u001b[1;32m      8\u001b[0m         \u001b[0mprint\u001b[0m\u001b[0;34m(\u001b[0m\u001b[0;34m\"!=\"\u001b[0m\u001b[0;34m,\u001b[0m \u001b[0mtrojka\u001b[0m\u001b[0;34m(\u001b[0m\u001b[0;34m)\u001b[0m\u001b[0;34m)\u001b[0m\u001b[0;34m\u001b[0m\u001b[0;34m\u001b[0m\u001b[0m\n\u001b[0;32m----> 9\u001b[0;31m \u001b[0mmain\u001b[0m\u001b[0;34m(\u001b[0m\u001b[0;34m)\u001b[0m\u001b[0;34m\u001b[0m\u001b[0;34m\u001b[0m\u001b[0m\n\u001b[0m",
            "\u001b[0;32m<ipython-input-6-12da41b0e7cc>\u001b[0m in \u001b[0;36mmain\u001b[0;34m()\u001b[0m\n\u001b[1;32m      6\u001b[0m \u001b[0;32mdef\u001b[0m \u001b[0mmain\u001b[0m\u001b[0;34m(\u001b[0m\u001b[0;34m)\u001b[0m\u001b[0;34m:\u001b[0m\u001b[0;34m\u001b[0m\u001b[0;34m\u001b[0m\u001b[0m\n\u001b[1;32m      7\u001b[0m     \u001b[0;32mfor\u001b[0m \u001b[0mn\u001b[0m \u001b[0;32min\u001b[0m \u001b[0mrange\u001b[0m\u001b[0;34m(\u001b[0m\u001b[0;36m0\u001b[0m\u001b[0;34m,\u001b[0m \u001b[0;36m11\u001b[0m\u001b[0;34m)\u001b[0m\u001b[0;34m:\u001b[0m\u001b[0;34m\u001b[0m\u001b[0;34m\u001b[0m\u001b[0m\n\u001b[0;32m----> 8\u001b[0;31m         \u001b[0mprint\u001b[0m\u001b[0;34m(\u001b[0m\u001b[0;34m\"!=\"\u001b[0m\u001b[0;34m,\u001b[0m \u001b[0mtrojka\u001b[0m\u001b[0;34m(\u001b[0m\u001b[0;34m)\u001b[0m\u001b[0;34m)\u001b[0m\u001b[0;34m\u001b[0m\u001b[0;34m\u001b[0m\u001b[0m\n\u001b[0m\u001b[1;32m      9\u001b[0m \u001b[0mmain\u001b[0m\u001b[0;34m(\u001b[0m\u001b[0;34m)\u001b[0m\u001b[0;34m\u001b[0m\u001b[0;34m\u001b[0m\u001b[0m\n",
            "\u001b[0;31mTypeError\u001b[0m: trojka() missing 1 required positional argument: 'n'"
          ]
        }
      ]
    }
  ]
}